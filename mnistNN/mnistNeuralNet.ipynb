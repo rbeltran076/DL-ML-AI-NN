{
 "cells": [
  {
   "cell_type": "code",
   "execution_count": 1,
   "metadata": {},
   "outputs": [],
   "source": [
    "#  Building a Neural Network from scratch for the MNIST dataset.\n",
    "# \n",
    "# The MNIST dataset is the dataset of handwritten digits used for digit \n",
    "# recognition and classification.\n",
    "#\n",
    "# I'll do 3 steps for bulding the model.\n",
    "# 1. Forepropagation. Is to input the image to the network and output the \n",
    "#   prediction.  \n",
    "# 2. Backpropagation. Is to analyze the output with respect to the actual\n",
    "#   label, and how the previous weights and biases of the network contributed\n",
    "#   to the error, and adjust them with something similar to a gradient descent.\n",
    "# 3. Repeat. We run again the neural net with the adjusted parameters this time,\n",
    "#   however this is not everything, it's supposed to be a cycle, which we search \n",
    "#   for the parameters with the minimum error."
   ]
  },
  {
   "cell_type": "code",
   "execution_count": 2,
   "metadata": {},
   "outputs": [
    {
     "name": "stdout",
     "output_type": "stream",
     "text": [
      "Libraries imported!\n"
     ]
    }
   ],
   "source": [
    "# We import the libraries for data analysis and plotting.\n",
    "# import numpy as np, pandas as pd\n",
    "from matplotlib import pyplot as plt\n",
    "print(\"Libraries imported!\")"
   ]
  }
 ],
 "metadata": {
  "kernelspec": {
   "display_name": "Python 3",
   "language": "python",
   "name": "python3"
  },
  "language_info": {
   "codemirror_mode": {
    "name": "ipython",
    "version": 3
   },
   "file_extension": ".py",
   "mimetype": "text/x-python",
   "name": "python",
   "nbconvert_exporter": "python",
   "pygments_lexer": "ipython3",
   "version": "3.11.1"
  },
  "orig_nbformat": 4
 },
 "nbformat": 4,
 "nbformat_minor": 2
}
