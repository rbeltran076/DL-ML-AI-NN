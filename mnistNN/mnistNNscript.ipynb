{
 "cells": [
  {
   "cell_type": "code",
   "execution_count": null,
   "metadata": {},
   "outputs": [],
   "source": [
    "# Building a Neural Network from scratch for the MNIST dataset.\n",
    "# \n",
    "# The MNIST dataset is the dataset of handwritten digits used for digit \n",
    "# recognition and classification.\n",
    "# \n",
    "# I'll do 3 steps for bulding the model.\n",
    "# 1. Forepropagation. Is to input the image to the network and output the \n",
    "#   prediction.   \n",
    "# 2. Backpropagation. Is to analyze the output with respect to the actual\n",
    "#   label, and how the previous weights and biases of the network contributed\n",
    "#   to the error, and adjust them with something similar to a gradient descent.\n",
    "# 3. Repeat. We run again the neural net with the adjusted parameters this time,\n",
    "#   however this is not everything, it's supposed to be a cycle, which we search \n",
    "#   for the parameters with the minimum error."
   ]
  },
  {
   "cell_type": "code",
   "execution_count": null,
   "metadata": {},
   "outputs": [],
   "source": [
    "# Because I am a noob, I need a function that displays the parameters of the data array I am manimpulating as I progress.\n",
    "# def displayParameters(dataArray, width, height):\n",
    "#     print(f\"\"\"Thdata array {}\n",
    "#     \"\"\")"
   ]
  },
  {
   "cell_type": "code",
   "execution_count": 119,
   "metadata": {},
   "outputs": [
    {
     "name": "stdout",
     "output_type": "stream",
     "text": [
      "Libraries imported!\n"
     ]
    }
   ],
   "source": [
    "# We import the libraries for data analysis and plotting.\n",
    "import numpy as np, pandas as pd\n",
    "from matplotlib import pyplot as plt\n",
    "print(\"Libraries imported!\")"
   ]
  },
  {
   "cell_type": "code",
   "execution_count": 95,
   "metadata": {},
   "outputs": [
    {
     "name": "stdout",
     "output_type": "stream",
     "text": [
      "The array of digit recognition is width n 785, height m 42000\n",
      "\n",
      "Data before shuffling\n",
      "[[1 0 0 ... 0 0 0]\n",
      " [0 0 0 ... 0 0 0]\n",
      " [1 0 0 ... 0 0 0]\n",
      " ...\n",
      " [7 0 0 ... 0 0 0]\n",
      " [6 0 0 ... 0 0 0]\n",
      " [9 0 0 ... 0 0 0]]\n",
      "\n",
      "Data after shuffling with seed number 42\n",
      "[[8 0 0 ... 0 0 0]\n",
      " [1 0 0 ... 0 0 0]\n",
      " [9 0 0 ... 0 0 0]\n",
      " ...\n",
      " [2 0 0 ... 0 0 0]\n",
      " [6 0 0 ... 0 0 0]\n",
      " [0 0 0 ... 0 0 0]]\n"
     ]
    }
   ],
   "source": [
    "# Differentiate between data frame and numpy array.\n",
    "# both are different data structures\n",
    "dataFrame = pd.read_csv('train.csv')\n",
    "dataArray = np.array(dataFrame)\n",
    "\n",
    "# Taking the shape of the array\n",
    "m, n = dataArray.shape\n",
    "# NOTE: The width and height are n, m\n",
    "print(f\"The array of digit recognition is width n {n}, height m {m}\\n\")\n",
    "\n",
    "# shuffling the array to prevent overfitting.\n",
    "# Doing so with a random seed\n",
    "print(f\"Data before shuffling\\n{dataArray}\")\n",
    "seedNumber = 42                 # set seed number to 42\n",
    "np.random.seed(seedNumber)\n",
    "np.random.shuffle(dataArray)    # shuffle the data array (sort in random order)    \n",
    "print(f\"\\nData after shuffling with seed number {seedNumber}\\n{dataArray}\")"
   ]
  },
  {
   "cell_type": "code",
   "execution_count": 118,
   "metadata": {},
   "outputs": [
    {
     "name": "stdout",
     "output_type": "stream",
     "text": [
      "This is the development data array\n",
      "[[8 1 9 ... 1 2 6]\n",
      " [0 0 0 ... 0 0 0]\n",
      " [0 0 0 ... 0 0 0]\n",
      " ...\n",
      " [0 0 0 ... 0 0 0]\n",
      " [0 0 0 ... 0 0 0]\n",
      " [0 0 0 ... 0 0 0]]                      \n",
      "It has a shape of width 1000, height 785 \n",
      "\n",
      "This is the training data array\n",
      "[[2 6 4 ... 2 6 0]\n",
      " [0 0 0 ... 0 0 0]\n",
      " [0 0 0 ... 0 0 0]\n",
      " ...\n",
      " [0 0 0 ... 0 0 0]\n",
      " [0 0 0 ... 0 0 0]\n",
      " [0 0 0 ... 0 0 0]]                      \n",
      "It has a shape of width 41000, height 785\n"
     ]
    }
   ],
   "source": [
    "# set development data              \n",
    "# The development data is the data that we use to tune the hyperparameters\n",
    "devData = dataArray[0:1000].T       # the dev data will be the first 1000 values of the data array\n",
    "x_devData = devData[0]              # develop predictions as the first list in the transposed array\n",
    "y_devData = devData[1:n]            # develop inputs as the rest of the lists in this transposed array\n",
    "\n",
    "# set training data                 \n",
    "# The training data is the data that we use the hyperparameters with\n",
    "trainData = dataArray[1000:m].T     # the training data will be the rest of the data array values\n",
    "y_trainData = trainData[0]          # train predictions as the first list in the array\n",
    "x_trainData = trainData[1:n]        # train inputs as the rest of the lists in the array \n",
    "\n",
    "# Print the information about subset of training data\n",
    "print(f\"\"\"This is the development data array\n",
    "{devData}                       \n",
    "It has a shape of width {devData.shape[1]}, height {devData.shape[0]} \n",
    "\n",
    "This is the training data array\n",
    "{trainData}                      \n",
    "It has a shape of width {trainData.shape[1]}, height {trainData.shape[0]}\"\"\")"
   ]
  },
  {
   "cell_type": "code",
   "execution_count": null,
   "metadata": {},
   "outputs": [],
   "source": [
    "# The previous code cells were the treatment of the data to prepare\n",
    "# for the actual training of the neural network.\n",
    "\n",
    "# This code is not supposed to be run here, but it can be used to\n",
    "# automate variable creation, the function locals() does that.\n",
    "# numberOfLayers = 2\n",
    "# make n variables, each one with a name that contains a number corresponding \n",
    "# to the number in the range. This gives n different variables with ordered names.\n",
    "# for i in range(numberOfLayers):\n",
    "#     variable = locals()[\"w%s\" % str(i + 1)] = a"
   ]
  },
  {
   "cell_type": "code",
   "execution_count": null,
   "metadata": {},
   "outputs": [],
   "source": [
    "# function that creates the initial hyperparameters with random values\n",
    "def init_parameters():\n",
    "    w1 = np.random.rand(10, 784) - 0.5\n",
    "    b1 = np.random.rand(10, 1) - 0.5\n",
    "    w2 = np.random.rand(10, 10) - 0.5\n",
    "    b2 = np.random.rand(10, 1) - 0.5\n",
    "    return w1, b1, w2, b2\n",
    "\n",
    "# function that performs as a rectifier linear unit (relu)\n",
    "# the relu just gives a binary output from a non binary input.\n",
    "# until this point it is just a fancy name for something really simple.\n",
    "def relu(z):\n",
    "    return np.maximum(0, z)\n",
    "\n",
    "# TODO: Function that ========================================================================================\n",
    "def softmax(z):\n",
    "    return np.exp(z) / np.sum(np.exp(z))\n",
    "\n",
    "# function that does the forward propagation\n",
    "def forward_prop(w1, b1, w2, b2, x):\n",
    "    z1 = w1.dot(x) + b1\n",
    "    a1 = relu(z1)\n",
    "    z2 = w2.dot(x)\n",
    "    a2 = softmax(z2)\n",
    "\n",
    "# TODO: Function that ========================================================================================\n",
    "def one_hot(y):\n",
    "    one_hot_y = np.zeros((y.size, y.max) + 1)\n",
    "    one_hot_y[np.arange(y.size), y] = 1\n",
    "    return one_hot_y.T\n",
    "\n",
    "# TODO: Function that ========================================================================================\n",
    "def backward_prop(z1, a1, z2, a2, w2, y):\n",
    "    m = y.size\n",
    "    one_hot_y = one_hot(y)\n",
    "    dz2 = a2 - one_hot_y\n",
    "    dw2 = 1 / m * dz2.dot(a1.T)\n",
    "    db2 = 1 / m * np.sum(dz1)"
   ]
  }
 ],
 "metadata": {
  "kernelspec": {
   "display_name": "Python 3",
   "language": "python",
   "name": "python3"
  },
  "language_info": {
   "codemirror_mode": {
    "name": "ipython",
    "version": 3
   },
   "file_extension": ".py",
   "mimetype": "text/x-python",
   "name": "python",
   "nbconvert_exporter": "python",
   "pygments_lexer": "ipython3",
   "version": "3.11.1"
  },
  "orig_nbformat": 4
 },
 "nbformat": 4,
 "nbformat_minor": 2
}
